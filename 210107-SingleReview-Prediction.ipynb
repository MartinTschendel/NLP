{
 "cells": [
  {
   "cell_type": "code",
   "execution_count": 2,
   "metadata": {},
   "outputs": [],
   "source": [
    "import numpy as np\n",
    "import matplotlib.pyplot as plt\n",
    "import pandas as pd"
   ]
  },
  {
   "cell_type": "code",
   "execution_count": 3,
   "metadata": {},
   "outputs": [],
   "source": [
    "#delimiter = \"\\t\" means tab\n",
    "#quoting = 3 means we are ignoring the double quotes in the dataset\n",
    "dataset = pd.read_csv('Restaurant_Reviews.tsv', delimiter='\\t', quoting = 3)"
   ]
  },
  {
   "cell_type": "code",
   "execution_count": 4,
   "metadata": {},
   "outputs": [
    {
     "name": "stderr",
     "output_type": "stream",
     "text": [
      "[nltk_data] Downloading package stopwords to\n",
      "[nltk_data]     C:\\Users\\Martin\\AppData\\Roaming\\nltk_data...\n",
      "[nltk_data]   Package stopwords is already up-to-date!\n"
     ]
    }
   ],
   "source": [
    "#use vpn so that stopwords can be downloaded\n",
    "\n",
    "#importing text cleaning libraries\n",
    "import re \n",
    "#nltk helps to remove all useless words (stopwords) such as a, the. and ...\n",
    "import nltk\n",
    "nltk.download('stopwords')\n",
    "from nltk.corpus import stopwords\n",
    "#stemming only concentrates on the roots of the word (loved --> love)\n",
    "from nltk.stem.porter import PorterStemmer"
   ]
  },
  {
   "cell_type": "code",
   "execution_count": 5,
   "metadata": {},
   "outputs": [],
   "source": [
    "#the list corpus will contain all text cleaned reviews\n",
    "corpus = []\n",
    "#iterate through dataset\n",
    "for i in range(0, 1000):\n",
    "    #removing all punctuations\n",
    "    #meaning of [^a-zA-Z]: anything except...\n",
    "    #meaning of ' ': replacement by space\n",
    "    #meaning of dataset['Review'][i]: place where the cleaning step should happen \n",
    "    review = re.sub('[^a-zA-Z]', ' ', dataset['Review'][i])\n",
    "    #transform capital letters to lower case by updating the 'review' variable\n",
    "    review = review.lower()\n",
    "    #split each review in different words, so that we can apply stemming\n",
    "    review = review.split()\n",
    "    #apply stemming (reduce the words to their roots)\n",
    "    #with 'ps' we created an object to apply stemming\n",
    "    ps = PorterStemmer()\n",
    "    #actually stopwords also includes the word 'not'\n",
    "    #but we have to keep it because it is a clearly negative indicator\n",
    "    all_stopwords = stopwords.words('english')\n",
    "    all_stopwords.remove('not')\n",
    "    #update 'review' by creating a list with the stemmed words\n",
    "    #this can be done with a single line for loop\n",
    "    #by applying ps.stem() to the iterator 'word'\n",
    "    #here we get also rid of the stopwords\n",
    "    review = [ps.stem(word) for word in review if not word in set(all_stopwords)]\n",
    "    #join the splitted words together in one review\n",
    "    #' ' means to separate the words with a space\n",
    "    review = ' '.join(review)\n",
    "    #putting each cleaned 'review' into the 'corpus' list \n",
    "    corpus.append(review)"
   ]
  },
  {
   "cell_type": "code",
   "execution_count": 6,
   "metadata": {},
   "outputs": [],
   "source": [
    "#create bag of words model\n",
    "#rows of sparse matrix: different reviews\n",
    "#columns of sparse matrix: cleaned words \n",
    "#cells of sparse matrix: 1 (word is in review) or 0 (word is not in review)\n",
    "#the above described matrix creation is done with tokenization\n",
    "from sklearn.feature_extraction.text import CountVectorizer\n",
    "#create an instance of the class 'CountVectorizer'\n",
    "#in () we have to enter the maximum number of words\n",
    "#we set this number after we know what is the number of the most frequent words\n",
    "cv = CountVectorizer(max_features=1500)\n",
    "#'X' stands for our sparse matrix\n",
    "#'toarray()' transforms it to a 2D array\n",
    "X = cv.fit_transform(corpus).toarray()\n",
    "#create dependent vector y\n",
    "y = dataset.iloc[:, -1].values\n"
   ]
  },
  {
   "cell_type": "code",
   "execution_count": 7,
   "metadata": {},
   "outputs": [],
   "source": [
    "#split dataset in training and test set\n",
    "from sklearn.model_selection import train_test_split\n",
    "X_train, X_test, y_train, y_test = train_test_split(X, y, test_size = 0.2, random_state = 0)"
   ]
  },
  {
   "cell_type": "code",
   "execution_count": 8,
   "metadata": {},
   "outputs": [
    {
     "data": {
      "text/plain": [
       "RandomForestClassifier(criterion='entropy', n_estimators=30, random_state=0)"
      ]
     },
     "execution_count": 8,
     "metadata": {},
     "output_type": "execute_result"
    }
   ],
   "source": [
    "#train random forest model\n",
    "from sklearn.ensemble import RandomForestClassifier\n",
    "class_rf = RandomForestClassifier(n_estimators = 30, criterion = 'entropy', random_state = 0)\n",
    "class_rf.fit(X_train, y_train)"
   ]
  },
  {
   "cell_type": "code",
   "execution_count": 10,
   "metadata": {},
   "outputs": [
    {
     "name": "stdout",
     "output_type": "stream",
     "text": [
      "[[90  7]\n",
      " [40 63]]\n"
     ]
    },
    {
     "data": {
      "text/plain": [
       "0.765"
      ]
     },
     "execution_count": 10,
     "metadata": {},
     "output_type": "execute_result"
    }
   ],
   "source": [
    "y_pred = class_rf.predict(X_test)\n",
    "from sklearn.metrics import confusion_matrix, accuracy_score\n",
    "cm = confusion_matrix(y_test, y_pred)\n",
    "print(cm)\n",
    "accuracy_score(y_test, y_pred)"
   ]
  },
  {
   "cell_type": "code",
   "execution_count": 15,
   "metadata": {},
   "outputs": [],
   "source": [
    "def check_review(new_review):\n",
    "    new_review = re.sub('[^a-zA-Z]', ' ', new_review)\n",
    "    new_review = new_review.lower()\n",
    "    new_review = new_review.split()\n",
    "    ps = PorterStemmer()\n",
    "    all_stopwords = stopwords.words('english')\n",
    "    all_stopwords.remove('not')\n",
    "    new_review = [ps.stem(word) for word in new_review if not word in set(all_stopwords)]\n",
    "    new_review = ' '.join(new_review)\n",
    "    new_corpus = [new_review]\n",
    "    new_X_test = cv.transform(new_corpus).toarray()\n",
    "    new_y_pred = class_rf.predict(new_X_test)\n",
    "    return print(new_y_pred)"
   ]
  },
  {
   "cell_type": "code",
   "execution_count": 27,
   "metadata": {},
   "outputs": [
    {
     "name": "stdout",
     "output_type": "stream",
     "text": [
      "[1]\n"
     ]
    }
   ],
   "source": [
    "check_review('We loved it')"
   ]
  },
  {
   "cell_type": "code",
   "execution_count": null,
   "metadata": {},
   "outputs": [],
   "source": []
  }
 ],
 "metadata": {
  "kernelspec": {
   "display_name": "Python 3",
   "language": "python",
   "name": "python3"
  },
  "language_info": {
   "codemirror_mode": {
    "name": "ipython",
    "version": 3
   },
   "file_extension": ".py",
   "mimetype": "text/x-python",
   "name": "python",
   "nbconvert_exporter": "python",
   "pygments_lexer": "ipython3",
   "version": "3.8.3"
  }
 },
 "nbformat": 4,
 "nbformat_minor": 4
}
